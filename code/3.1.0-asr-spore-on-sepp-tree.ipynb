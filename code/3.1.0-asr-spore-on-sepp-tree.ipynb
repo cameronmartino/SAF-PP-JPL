{
 "cells": [
  {
   "cell_type": "code",
   "execution_count": 15,
   "metadata": {},
   "outputs": [],
   "source": [
    "import os\n",
    "from os import path\n",
    "import pandas as pd\n",
    "import hashlib\n",
    "import gzip\n",
    "import tempfile\n",
    "from biom import load_table\n",
    "from sklearn.preprocessing import LabelEncoder\n",
    "from picrust2.wrap_hsp import (castor_hsp_workflow,\n",
    "                               castor_nsti)\n",
    "from sklearn import metrics\n",
    "from sklearn.model_selection import LeaveOneOut\n",
    "\n",
    "import numpy as np\n",
    "from skbio import TreeNode\n",
    "from io import StringIO\n",
    "from pathlib import Path"
   ]
  },
  {
   "cell_type": "code",
   "execution_count": 21,
   "metadata": {},
   "outputs": [
    {
     "data": {
      "text/plain": [
       "(2443, 1)"
      ]
     },
     "execution_count": 21,
     "metadata": {},
     "output_type": "execute_result"
    }
   ],
   "source": [
    "#bacdive data\n",
    "discdf = pd.read_table('../data/bacdive-data/gg-mapped-tree-data/bacdive-binary-matched.tsv',\n",
    "                          index_col=0,low_memory=False)\n",
    "discdf = discdf.reset_index().drop_duplicates(subset='index', keep='first').set_index('index')\n",
    "discdf.index = discdf.index.astype(str)\n",
    "keep_cols = [col_ for col_ in discdf.columns \n",
    "             if discdf.dropna(subset=[col_]).shape[0] > 100]\n",
    "discdf = discdf[['Spore']].dropna()\n",
    "\n",
    "# need to set the comp to false\n",
    "sing_val_col = [col_ for col_ in discdf.columns\n",
    "                if len(set(discdf.dropna(subset=[col_])[col_])) == 1]\n",
    "discdf[sing_val_col] = discdf[sing_val_col].fillna(value=False)\n",
    "\n",
    "# get table to inlcude\n",
    "btst = load_table('../data/16S/data-subsets/pma-treatment-table/feature-table.biom')\n",
    "seq_predict = btst.ids('observation')\n",
    "\n",
    "# get SEPP tree\n",
    "in_tree='../data/16S/83714_insertion_tree.relabelled.tre'\n",
    "tree = TreeNode.read(StringIO(Path(in_tree).read_text()))\n",
    "discdf.shape\n"
   ]
  },
  {
   "cell_type": "code",
   "execution_count": 58,
   "metadata": {},
   "outputs": [],
   "source": [
    "# get a copy\n",
    "discdf_subset = discdf.copy()\n",
    "tree_subset = tree.copy()\n",
    "sub_col = 'Spore'\n",
    "\n",
    "tree_matched = list(set([node.name for node in tree_subset.tips()])\\\n",
    "                    &set(discdf.index))\n",
    "tree_predict = list(set([node.name for node in tree_subset.tips()])\\\n",
    "                    &set(list(discdf.index) + list(seq_predict)))\n",
    "\n",
    "# sub set table\n",
    "discdf_subset.index.name = 'assembly'\n",
    "discdf_subset = discdf_subset.reindex(index=tree_matched)\n",
    "discdf_subset = pd.DataFrame(discdf_subset[sub_col].dropna())\n",
    "enc = LabelEncoder().fit(discdf_subset[sub_col])\n",
    "discdf_subset[sub_col] = enc.transform(discdf_subset[sub_col]).astype(int)\n",
    "discdf_subset = pd.DataFrame(pd.to_numeric(discdf_subset[sub_col]))\n",
    "\n",
    "# sub set the tree to only knowns\n",
    "tree_subset = tree_subset.shear(tree_predict)\n",
    "\n",
    "# generate the temp. directory to store res\n",
    "with tempfile.TemporaryDirectory() as temp_dir_name:\n",
    "    # save tree to a tmp dir\n",
    "    tree_tmp = os.path.join(temp_dir_name, 'phylogeny_desc.tree')\n",
    "    tree_subset.write(tree_tmp)\n",
    "    # save traits to a tmp dir\n",
    "    traits_tmp = os.path.join(temp_dir_name, 'traits_desc.tsv')\n",
    "    discdf_subset.to_csv(traits_tmp, sep='\\t')\n",
    "    # run castor\n",
    "    hsp_method='emp_prob'\n",
    "    predict_out, ci_out = castor_hsp_workflow(tree_path=tree_tmp,\n",
    "                                              trait_table_path=traits_tmp,\n",
    "                                              calc_ci=True,\n",
    "                                              hsp_method=hsp_method)\n"
   ]
  },
  {
   "cell_type": "code",
   "execution_count": 78,
   "metadata": {},
   "outputs": [],
   "source": [
    "# generate the temp. directory to store res\n",
    "with tempfile.TemporaryDirectory() as temp_dir_name:\n",
    "    # save tree to a tmp dir\n",
    "    tree_tmp = os.path.join(temp_dir_name, 'phylogeny_desc.tree')\n",
    "    tree_subset.write(tree_tmp)\n",
    "    # save traits to a tmp dir\n",
    "    traits_tmp = os.path.join(temp_dir_name, 'traits_desc.tsv')\n",
    "    discdf_subset.to_csv(traits_tmp, sep='\\t')\n",
    "    # run castor\n",
    "    hsp_method='emp_prob'\n",
    "    predict_out, ci_out = castor_hsp_workflow(tree_path=tree_tmp,\n",
    "                                              trait_table_path=traits_tmp,\n",
    "                                              chunk_size=1000,\n",
    "                                              calc_ci=True,\n",
    "                                              ran_seed=42,\n",
    "                                              hsp_method=hsp_method)\n"
   ]
  },
  {
   "cell_type": "code",
   "execution_count": 79,
   "metadata": {},
   "outputs": [],
   "source": [
    "predict_out['Spore_decoded'] = enc.inverse_transform(predict_out.Spore)\n",
    "ci_out = ci_out.reindex(predict_out.index)\n",
    "predict_out = pd.concat([predict_out, ci_out], axis=1)\n",
    "predict_out.index.name = 'featureid'\n",
    "predict_out.to_csv('../data/bacdive-data/gg-sep-predicted.tsv', sep='\\t')\n"
   ]
  },
  {
   "cell_type": "code",
   "execution_count": null,
   "metadata": {},
   "outputs": [],
   "source": []
  }
 ],
 "metadata": {
  "kernelspec": {
   "display_name": "Python 3",
   "language": "python",
   "name": "python3"
  },
  "language_info": {
   "codemirror_mode": {
    "name": "ipython",
    "version": 3
   },
   "file_extension": ".py",
   "mimetype": "text/x-python",
   "name": "python",
   "nbconvert_exporter": "python",
   "pygments_lexer": "ipython3",
   "version": "3.6.7"
  }
 },
 "nbformat": 4,
 "nbformat_minor": 2
}
