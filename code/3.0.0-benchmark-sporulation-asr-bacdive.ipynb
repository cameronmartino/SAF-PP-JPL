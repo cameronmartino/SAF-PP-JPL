{
 "cells": [
  {
   "cell_type": "code",
   "execution_count": 1,
   "metadata": {},
   "outputs": [],
   "source": [
    "import os\n",
    "from os import path\n",
    "import pandas as pd\n",
    "import hashlib\n",
    "import gzip\n",
    "import tempfile\n",
    "from sklearn.preprocessing import LabelEncoder\n",
    "from picrust2.wrap_hsp import (castor_hsp_workflow,\n",
    "                               castor_nsti)\n",
    "from sklearn import metrics\n",
    "from sklearn.model_selection import LeaveOneOut\n",
    "\n",
    "import numpy as np\n",
    "from skbio import TreeNode\n",
    "from io import StringIO\n",
    "from pathlib import Path"
   ]
  },
  {
   "cell_type": "code",
   "execution_count": 2,
   "metadata": {},
   "outputs": [
    {
     "data": {
      "text/plain": [
       "(9004, 1)"
      ]
     },
     "execution_count": 2,
     "metadata": {},
     "output_type": "execute_result"
    }
   ],
   "source": [
    "#bacdiev data\n",
    "discdf = pd.read_table('../data/bacdive-data/gg-mapped-tree-data/bacdive-binary-matched.tsv',\n",
    "                          index_col=0,low_memory=False)\n",
    "discdf = discdf.reset_index().drop_duplicates(subset='index', keep='first').set_index('index')\n",
    "discdf.index = discdf.index.astype(str)\n",
    "keep_cols = [col_ for col_ in discdf.columns \n",
    "             if discdf.dropna(subset=[col_]).shape[0] > 100]\n",
    "discdf = discdf[['Spore']]\n",
    "# need to set the comp to false\n",
    "sing_val_col = [col_ for col_ in discdf.columns\n",
    "                if len(set(discdf.dropna(subset=[col_])[col_])) == 1]\n",
    "discdf[sing_val_col] = discdf[sing_val_col].fillna(value=False)\n",
    "# get tree and match\n",
    "in_tree='../data/bacdive-data/gg-mapped-tree-data/99-otus-unannotated.tree'\n",
    "tree = TreeNode.read(StringIO(Path(in_tree).read_text()))\n",
    "tree_matched = list(set([node.name for node in tree.tips()])&set(discdf.index))\n",
    "discdf = discdf.reindex(index=tree_matched)\n",
    "discdf.shape\n"
   ]
  },
  {
   "cell_type": "code",
   "execution_count": 4,
   "metadata": {},
   "outputs": [],
   "source": [
    "# column to learn\n",
    "res_cont = {}\n",
    "res_cont_all = {}\n",
    "discdf_bools = discdf.copy()\n",
    "# we just want to benchmark sporulation\n",
    "for sub_col in ['Spore']:\n",
    "\n",
    "    # sub set table\n",
    "    discdf_subset = discdf_bools.copy()\n",
    "    discdf_subset.index.name = 'assembly'\n",
    "    discdf_subset = pd.DataFrame(discdf_subset[sub_col].dropna())\n",
    "    enc = LabelEncoder().fit(discdf_subset[sub_col])\n",
    "    discdf_subset[sub_col] = enc.transform(discdf_subset[sub_col]).astype(int)\n",
    "    discdf_subset = pd.DataFrame(pd.to_numeric(discdf_subset[sub_col]))\n",
    "\n",
    "    # sub set the tree to only knowns\n",
    "    tree_subset = tree.copy()\n",
    "    tree_subset = tree_subset.shear(list(discdf_subset.index))\n",
    "\n",
    "    # build LOO\n",
    "    loo = LeaveOneOut()\n",
    "    loo.get_n_splits(discdf_subset)\n",
    "\n",
    "    # run LOO\n",
    "    ytests = []\n",
    "    ypreds = []\n",
    "    for train_index, test_index in loo.split(discdf_subset):\n",
    "        # subset to learn\n",
    "        discdf_subset_loo = discdf_subset.iloc[train_index, :]\n",
    "        # generate the temp. directory to store res\n",
    "        with tempfile.TemporaryDirectory() as temp_dir_name:\n",
    "            # save tree to a tmp dir\n",
    "            tree_tmp = os.path.join(temp_dir_name, 'phylogeny_desc.tree')\n",
    "            tree_subset.write(tree_tmp)\n",
    "            # save traits to a tmp dir\n",
    "            traits_tmp = os.path.join(temp_dir_name, 'traits_desc.tsv')\n",
    "            discdf_subset_loo.to_csv(traits_tmp, sep='\\t')\n",
    "            # run castor\n",
    "            hsp_method='emp_prob'\n",
    "            predict_out, ci_out = castor_hsp_workflow(tree_path=tree_tmp,\n",
    "                                                      trait_table_path=traits_tmp,\n",
    "                                                      hsp_method=hsp_method)\n",
    "        # save test and pred.\n",
    "        ytests.append(discdf_subset.iloc[test_index, :].values[0][0])\n",
    "        ypreds.append(predict_out.values[0][0])\n",
    "\n",
    "    # eval.\n",
    "    res_cont_all[(sub_col,'real')] = ytests\n",
    "    res_cont_all[(sub_col,'predicted')] = ypreds\n",
    "    # evals\n",
    "    res_cont[(sub_col,'R2')] = [metrics.r2_score(ytests,\n",
    "                                                 ypreds)**2]\n",
    "    res_cont[(sub_col,'MSE')] = [metrics.mean_squared_error(ytests,\n",
    "                                                            ypreds)]\n"
   ]
  },
  {
   "cell_type": "code",
   "execution_count": 5,
   "metadata": {},
   "outputs": [
    {
     "data": {
      "text/plain": [
       "MultiIndex([('Spore',  'R2'),\n",
       "            ('Spore', 'MSE')],\n",
       "           )"
      ]
     },
     "execution_count": 5,
     "metadata": {},
     "output_type": "execute_result"
    }
   ],
   "source": [
    "pd.DataFrame(res_cont).columns"
   ]
  },
  {
   "cell_type": "code",
   "execution_count": 9,
   "metadata": {},
   "outputs": [
    {
     "data": {
      "image/png": "[encoded data removed]",
      "text/plain": [
       "<Figure size 432x288 with 1 Axes>"
      ]
     },
     "metadata": {
      "needs_background": "light"
     },
     "output_type": "display_data"
    }
   ],
   "source": [
    "from sklearn.metrics import average_precision_score\n",
    "from sklearn.metrics import precision_recall_curve\n",
    "from inspect import signature\n",
    "\n",
    "#plot\n",
    "import matplotlib.pyplot as plt\n",
    "from matplotlib.pyplot import cm\n",
    "from matplotlib.colors import to_hex\n",
    "import seaborn as sns\n",
    "\n",
    "plt.rcParams[\"axes.titlesize\"] = 25\n",
    "plt.rcParams[\"axes.labelsize\"] = 25\n",
    "plt.rcParams['xtick.labelsize'] = 14\n",
    "plt.rcParams['ytick.labelsize'] = 14\n",
    "    \n",
    "%matplotlib inline\n",
    "\n",
    "lbls_ = {'Motile':'Motility','Spore':'Sporulation',\n",
    "         'Animal_Pathogen':'Animal Pathogen',\n",
    "               'Human_Pathogen':'Human Pathogen',\n",
    "               'Plant_Pathogen':'Plant Pathogen'}\n",
    "\n",
    "for pheno_ in ['Spore']:\n",
    "  \n",
    "    y_test = res_cont_all[(pheno_, 'real')].copy()\n",
    "    y_score = res_cont_all[(pheno_, 'predicted')].copy()\n",
    "    average_precision = average_precision_score(y_test, y_score)\n",
    "    precision, recall, _ = precision_recall_curve(y_test, y_score)\n",
    "\n",
    "    # In matplotlib < 1.5, plt.fill_between does not have a 'step' argument\n",
    "    step_kwargs = ({'step': 'post'}\n",
    "                   if 'step' in signature(plt.fill_between).parameters\n",
    "                   else {})\n",
    "    plt.step(recall, precision, color='#377eb8', alpha=0.9,\n",
    "             where='post')\n",
    "    plt.fill_between(recall, precision, alpha=0.2, color='#377eb8', **step_kwargs)\n",
    "\n",
    "    plt.xlabel('Recall')\n",
    "    plt.ylabel('Precision')\n",
    "    plt.ylim([0.0, 1.05])\n",
    "    plt.xlim([0.0, 1.0])\n",
    "    #plt.title('2-class Precision-Recall curve'%(average_precision),\n",
    "    #          fontsize=14,y=.9)\n",
    "    plt.title(lbls_[pheno_]+': AP=%0.2f'%(average_precision),fontsize=25,y=1.0)\n",
    "    \n",
    "    # save the figure to file\n",
    "    plt.savefig('../results/figures/LOO-bench-spore.pdf',\n",
    "                dpi=600, \n",
    "                bbox_inches='tight',\n",
    "                edgecolor='none')\n",
    "\n",
    "\n",
    "    plt.show()"
   ]
  }
 ],
 "metadata": {
  "kernelspec": {
   "display_name": "Python 3",
   "language": "python",
   "name": "python3"
  },
  "language_info": {
   "codemirror_mode": {
    "name": "ipython",
    "version": 3
   },
   "file_extension": ".py",
   "mimetype": "text/x-python",
   "name": "python",
   "nbconvert_exporter": "python",
   "pygments_lexer": "ipython3",
   "version": "3.6.7"
  }
 },
 "nbformat": 4,
 "nbformat_minor": 2
}
